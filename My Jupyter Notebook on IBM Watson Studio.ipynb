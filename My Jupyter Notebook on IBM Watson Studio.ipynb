{
 "cells": [
  {
   "cell_type": "markdown",
   "id": "ed617968",
   "metadata": {},
   "source": [
    "# My Jupyter Notebook on IBM Watson Studio"
   ]
  },
  {
   "cell_type": "markdown",
   "id": "bfc40920",
   "metadata": {},
   "source": [
    "**Majid Mahmood - DATA SCIENTIST**\n",
    "\n",
    "i want to be a data Scientist"
   ]
  },
  {
   "cell_type": "markdown",
   "id": "2a3f04d7",
   "metadata": {},
   "source": [
    "_I am interested in data science because companies require skilled Data Scientists to process and analyze their data. They not only analyze the data but also improve its quality. Therefore, Data Science deals with enriching data and making it better for their company_"
   ]
  },
  {
   "cell_type": "markdown",
   "id": "4fa84d46",
   "metadata": {},
   "source": [
    "### My below funtion is a simple python program of veriable and addition"
   ]
  },
  {
   "cell_type": "code",
   "execution_count": 2,
   "id": "f2c02719",
   "metadata": {},
   "outputs": [
    {
     "name": "stdout",
     "output_type": "stream",
     "text": [
      "3\n"
     ]
    }
   ],
   "source": [
    "a=1\n",
    "b=2\n",
    "add=a+b\n",
    "print(add)\n"
   ]
  },
  {
   "cell_type": "markdown",
   "id": "edb91d12",
   "metadata": {},
   "source": [
    "horizontal rule\n",
    "___\n",
    "\n",
    "\n",
    " ~~strikethrough~~\n",
    "<br>( - ) Inline `code` has `back-ticks around` it.\n",
    "\n",
    "<li>1</li>\n",
    "<li>2</li>\n",
    "<li>3</li>\n",
    "\n"
   ]
  }
 ],
 "metadata": {
  "kernelspec": {
   "display_name": "Python 3",
   "language": "python",
   "name": "python3"
  },
  "language_info": {
   "codemirror_mode": {
    "name": "ipython",
    "version": 3
   },
   "file_extension": ".py",
   "mimetype": "text/x-python",
   "name": "python",
   "nbconvert_exporter": "python",
   "pygments_lexer": "ipython3",
   "version": "3.6.15"
  }
 },
 "nbformat": 4,
 "nbformat_minor": 5
}
